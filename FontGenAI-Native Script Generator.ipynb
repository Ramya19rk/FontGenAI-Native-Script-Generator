{
 "cells": [
  {
   "cell_type": "code",
   "execution_count": 23,
   "id": "24dfc51a",
   "metadata": {},
   "outputs": [],
   "source": [
    "import numpy as np\n",
    "import pandas as pd\n",
    "import matplotlib.pyplot as plt\n",
    "import tensorflow as tf\n",
    "from tensorflow.keras import layers, models\n",
    "from sklearn.preprocessing import LabelEncoder\n",
    "from sklearn.metrics import confusion_matrix, classification_report\n",
    "import seaborn as sns"
   ]
  },
  {
   "cell_type": "code",
   "execution_count": 24,
   "id": "2b23abd6",
   "metadata": {},
   "outputs": [],
   "source": [
    "# Load your CSV datasets\n",
    "train_data = pd.read_csv('train(grayscale).csv')\n",
    "test_data = pd.read_csv('test(grayscale).csv')"
   ]
  },
  {
   "cell_type": "code",
   "execution_count": 27,
   "id": "8ac38384",
   "metadata": {},
   "outputs": [],
   "source": [
    "# # Preprocess your data\n",
    "# train_images = train_data.iloc[:, 2:].values.astype(np.float32) / 255.0\n",
    "# train_labels = train_data.iloc[:, 1].values.astype(np.int32)"
   ]
  },
  {
   "cell_type": "code",
   "execution_count": 26,
   "id": "6c21f2bd",
   "metadata": {},
   "outputs": [
    {
     "name": "stdout",
     "output_type": "stream",
     "text": [
      "[  0   0   0 ... 383 383 383]\n"
     ]
    }
   ],
   "source": [
    "# Assuming train_data.iloc[:, 1] contains non-numeric labels ('अ', 'आ', etc.)\n",
    "label_encoder = LabelEncoder()\n",
    "train_labels = label_encoder.fit_transform(train_data.iloc[:, 1])\n",
    "\n",
    "# Verify the encoded labels\n",
    "print(train_labels)"
   ]
  },
  {
   "cell_type": "code",
   "execution_count": 28,
   "id": "f2e015fc",
   "metadata": {},
   "outputs": [],
   "source": [
    "# Assuming 'label' column in train_data contains non-numeric labels ('अ', 'आ', etc.)\n",
    "label_encoder = LabelEncoder()\n",
    "train_labels = label_encoder.fit_transform(train_data['label'])"
   ]
  },
  {
   "cell_type": "code",
   "execution_count": 29,
   "id": "cb0e953f",
   "metadata": {},
   "outputs": [],
   "source": [
    "# Preprocess your data\n",
    "train_images = train_data.iloc[:, 2:].values.astype(np.float32) / 255.0\n",
    "test_images = test_data.iloc[:, 2:].values.astype(np.float32) / 255.0"
   ]
  },
  {
   "cell_type": "code",
   "execution_count": 30,
   "id": "221af829",
   "metadata": {},
   "outputs": [],
   "source": [
    "# Reshape images (assuming images are 32x32 pixels, adjust as per your dataset)\n",
    "img_height, img_width = 32, 32\n",
    "train_images = train_images.reshape(-1, img_height, img_width, 1)  # 1 channel for grayscale\n",
    "test_images = test_images.reshape(-1, img_height, img_width, 1)"
   ]
  },
  {
   "cell_type": "code",
   "execution_count": 31,
   "id": "37f3de08",
   "metadata": {
    "collapsed": true
   },
   "outputs": [
    {
     "name": "stderr",
     "output_type": "stream",
     "text": [
      "/Users/arul/anaconda3/lib/python3.11/site-packages/keras/src/layers/convolutional/base_conv.py:107: UserWarning: Do not pass an `input_shape`/`input_dim` argument to a layer. When using Sequential models, prefer using an `Input(shape)` object as the first layer in the model instead.\n",
      "  super().__init__(activity_regularizer=activity_regularizer, **kwargs)\n"
     ]
    }
   ],
   "source": [
    "# Define the CNN model\n",
    "model = models.Sequential([\n",
    "    layers.Conv2D(32, (3, 3), activation='relu', input_shape=(img_height, img_width, 1)),\n",
    "    layers.MaxPooling2D((2, 2)),\n",
    "    layers.Conv2D(64, (3, 3), activation='relu'),\n",
    "    layers.MaxPooling2D((2, 2)),\n",
    "    layers.Conv2D(64, (3, 3), activation='relu'),\n",
    "    layers.Flatten(),\n",
    "    layers.Dense(64, activation='relu'),\n",
    "    layers.Dense(len(np.unique(train_labels)), activation='softmax')\n",
    "])"
   ]
  },
  {
   "cell_type": "code",
   "execution_count": 32,
   "id": "af776b44",
   "metadata": {},
   "outputs": [],
   "source": [
    "# Compile the model\n",
    "model.compile(optimizer='adam',\n",
    "              loss='sparse_categorical_crossentropy',\n",
    "              metrics=['accuracy'])"
   ]
  },
  {
   "cell_type": "code",
   "execution_count": 34,
   "id": "d3555209",
   "metadata": {
    "collapsed": true
   },
   "outputs": [
    {
     "name": "stdout",
     "output_type": "stream",
     "text": [
      "Epoch 1/15\n",
      "\u001b[1m6087/6087\u001b[0m \u001b[32m━━━━━━━━━━━━━━━━━━━━\u001b[0m\u001b[37m\u001b[0m \u001b[1m61s\u001b[0m 10ms/step - accuracy: 0.5051 - loss: 2.3602 - val_accuracy: 0.0085 - val_loss: 68.8986\n",
      "Epoch 2/15\n",
      "\u001b[1m6087/6087\u001b[0m \u001b[32m━━━━━━━━━━━━━━━━━━━━\u001b[0m\u001b[37m\u001b[0m \u001b[1m64s\u001b[0m 11ms/step - accuracy: 0.9582 - loss: 0.1291 - val_accuracy: 0.0085 - val_loss: 71.5851\n",
      "Epoch 3/15\n",
      "\u001b[1m6087/6087\u001b[0m \u001b[32m━━━━━━━━━━━━━━━━━━━━\u001b[0m\u001b[37m\u001b[0m \u001b[1m63s\u001b[0m 10ms/step - accuracy: 0.9792 - loss: 0.0666 - val_accuracy: 0.0101 - val_loss: 67.0732\n",
      "Epoch 4/15\n",
      "\u001b[1m6087/6087\u001b[0m \u001b[32m━━━━━━━━━━━━━━━━━━━━\u001b[0m\u001b[37m\u001b[0m \u001b[1m64s\u001b[0m 11ms/step - accuracy: 0.9859 - loss: 0.0437 - val_accuracy: 0.0102 - val_loss: 70.6605\n",
      "Epoch 5/15\n",
      "\u001b[1m6087/6087\u001b[0m \u001b[32m━━━━━━━━━━━━━━━━━━━━\u001b[0m\u001b[37m\u001b[0m \u001b[1m65s\u001b[0m 11ms/step - accuracy: 0.9892 - loss: 0.0353 - val_accuracy: 0.0104 - val_loss: 64.5957\n",
      "Epoch 6/15\n",
      "\u001b[1m6087/6087\u001b[0m \u001b[32m━━━━━━━━━━━━━━━━━━━━\u001b[0m\u001b[37m\u001b[0m \u001b[1m64s\u001b[0m 11ms/step - accuracy: 0.9913 - loss: 0.0294 - val_accuracy: 0.0098 - val_loss: 68.8672\n",
      "Epoch 7/15\n",
      "\u001b[1m6087/6087\u001b[0m \u001b[32m━━━━━━━━━━━━━━━━━━━━\u001b[0m\u001b[37m\u001b[0m \u001b[1m66s\u001b[0m 11ms/step - accuracy: 0.9924 - loss: 0.0248 - val_accuracy: 0.0104 - val_loss: 66.1517\n",
      "Epoch 8/15\n",
      "\u001b[1m6087/6087\u001b[0m \u001b[32m━━━━━━━━━━━━━━━━━━━━\u001b[0m\u001b[37m\u001b[0m \u001b[1m66s\u001b[0m 11ms/step - accuracy: 0.9940 - loss: 0.0205 - val_accuracy: 0.0101 - val_loss: 60.6710\n",
      "Epoch 9/15\n",
      "\u001b[1m6087/6087\u001b[0m \u001b[32m━━━━━━━━━━━━━━━━━━━━\u001b[0m\u001b[37m\u001b[0m \u001b[1m66s\u001b[0m 11ms/step - accuracy: 0.9941 - loss: 0.0201 - val_accuracy: 0.0104 - val_loss: 63.9674\n",
      "Epoch 10/15\n",
      "\u001b[1m6087/6087\u001b[0m \u001b[32m━━━━━━━━━━━━━━━━━━━━\u001b[0m\u001b[37m\u001b[0m \u001b[1m71s\u001b[0m 12ms/step - accuracy: 0.9947 - loss: 0.0189 - val_accuracy: 0.0104 - val_loss: 63.5753\n",
      "Epoch 11/15\n",
      "\u001b[1m6087/6087\u001b[0m \u001b[32m━━━━━━━━━━━━━━━━━━━━\u001b[0m\u001b[37m\u001b[0m \u001b[1m77s\u001b[0m 13ms/step - accuracy: 0.9955 - loss: 0.0164 - val_accuracy: 0.0104 - val_loss: 63.3828\n",
      "Epoch 12/15\n",
      "\u001b[1m6087/6087\u001b[0m \u001b[32m━━━━━━━━━━━━━━━━━━━━\u001b[0m\u001b[37m\u001b[0m \u001b[1m77s\u001b[0m 13ms/step - accuracy: 0.9953 - loss: 0.0165 - val_accuracy: 0.0091 - val_loss: 64.5336\n",
      "Epoch 13/15\n",
      "\u001b[1m6087/6087\u001b[0m \u001b[32m━━━━━━━━━━━━━━━━━━━━\u001b[0m\u001b[37m\u001b[0m \u001b[1m73s\u001b[0m 12ms/step - accuracy: 0.9959 - loss: 0.0135 - val_accuracy: 0.0104 - val_loss: 64.5473\n",
      "Epoch 14/15\n",
      "\u001b[1m6087/6087\u001b[0m \u001b[32m━━━━━━━━━━━━━━━━━━━━\u001b[0m\u001b[37m\u001b[0m \u001b[1m74s\u001b[0m 12ms/step - accuracy: 0.9965 - loss: 0.0127 - val_accuracy: 0.0103 - val_loss: 67.4123\n",
      "Epoch 15/15\n",
      "\u001b[1m6087/6087\u001b[0m \u001b[32m━━━━━━━━━━━━━━━━━━━━\u001b[0m\u001b[37m\u001b[0m \u001b[1m73s\u001b[0m 12ms/step - accuracy: 0.9963 - loss: 0.0130 - val_accuracy: 0.0102 - val_loss: 65.3151\n"
     ]
    }
   ],
   "source": [
    "# Assuming train_images and train_labels are already defined\n",
    "history = model.fit(train_images, train_labels, epochs=15, validation_split=0.2)"
   ]
  },
  {
   "cell_type": "code",
   "execution_count": 37,
   "id": "f7a495fb",
   "metadata": {
    "collapsed": true
   },
   "outputs": [
    {
     "name": "stdout",
     "output_type": "stream",
     "text": [
      "[  0   0   0 ... 383 383 383]\n"
     ]
    }
   ],
   "source": [
    "# Use LabelEncoder to encode non-numeric labels\n",
    "label_encoder = LabelEncoder()\n",
    "test_labels = label_encoder.fit_transform(test_data.iloc[:, 1])\n",
    "\n",
    "# Verify encoded labels\n",
    "print(test_labels)"
   ]
  },
  {
   "cell_type": "code",
   "execution_count": 38,
   "id": "29060c34",
   "metadata": {
    "collapsed": true
   },
   "outputs": [
    {
     "name": "stdout",
     "output_type": "stream",
     "text": [
      "1896/1896 - 6s - 3ms/step - accuracy: 0.7984 - loss: 13.0798\n",
      "Test accuracy: 0.7983748912811279\n"
     ]
    }
   ],
   "source": [
    "# Evaluate the model on the test set\n",
    "test_loss, test_acc = model.evaluate(test_images, test_labels, verbose=2)\n",
    "print(f'Test accuracy: {test_acc}')"
   ]
  },
  {
   "cell_type": "code",
   "execution_count": 39,
   "id": "593678ab",
   "metadata": {
    "collapsed": true
   },
   "outputs": [
    {
     "data": {
      "image/png": "[encoded data removed]",
      "text/plain": [
       "<Figure size 800x600 with 1 Axes>"
      ]
     },
     "metadata": {},
     "output_type": "display_data"
    }
   ],
   "source": [
    "# Visualize training history\n",
    "\n",
    "plt.figure(figsize=(8, 6))\n",
    "plt.plot(history.history['accuracy'], label='Accuracy')\n",
    "plt.plot(history.history['val_accuracy'], label='Validation Accuracy')\n",
    "plt.xlabel('Epoch')\n",
    "plt.ylabel('Accuracy')\n",
    "plt.legend()\n",
    "plt.show()"
   ]
  },
  {
   "cell_type": "code",
   "execution_count": 41,
   "id": "cab00eb1",
   "metadata": {
    "collapsed": true
   },
   "outputs": [
    {
     "name": "stdout",
     "output_type": "stream",
     "text": [
      "\u001b[1m1896/1896\u001b[0m \u001b[32m━━━━━━━━━━━━━━━━━━━━\u001b[0m\u001b[37m\u001b[0m \u001b[1m7s\u001b[0m 4ms/step\n"
     ]
    }
   ],
   "source": [
    "# Predict labels for the test set\n",
    "predictions = model.predict(test_images)\n",
    "predicted_labels = np.argmax(predictions, axis=1)"
   ]
  },
  {
   "cell_type": "code",
   "execution_count": 42,
   "id": "8ae597a9",
   "metadata": {},
   "outputs": [],
   "source": [
    "# Compute confusion matrix\n",
    "cm = confusion_matrix(test_labels, predicted_labels)"
   ]
  },
  {
   "cell_type": "code",
   "execution_count": 43,
   "id": "a4786af0",
   "metadata": {
    "collapsed": true
   },
   "outputs": [
    {
     "name": "stderr",
     "output_type": "stream",
     "text": [
      "/Users/arul/anaconda3/lib/python3.11/site-packages/seaborn/utils.py:80: UserWarning: Glyph 2309 (\\N{DEVANAGARI LETTER A}) missing from current font.\n",
      "  fig.canvas.draw()\n",
      "/Users/arul/anaconda3/lib/python3.11/site-packages/seaborn/utils.py:80: UserWarning: Matplotlib currently does not support Devanagari natively.\n",
      "  fig.canvas.draw()\n",
      "/Users/arul/anaconda3/lib/python3.11/site-packages/seaborn/utils.py:80: UserWarning: Glyph 2306 (\\N{DEVANAGARI SIGN ANUSVARA}) missing from current font.\n",
      "  fig.canvas.draw()\n",
      "/Users/arul/anaconda3/lib/python3.11/site-packages/seaborn/utils.py:80: UserWarning: Glyph 2307 (\\N{DEVANAGARI SIGN VISARGA}) missing from current font.\n",
      "  fig.canvas.draw()\n",
      "/Users/arul/anaconda3/lib/python3.11/site-packages/seaborn/utils.py:80: UserWarning: Glyph 2310 (\\N{DEVANAGARI LETTER AA}) missing from current font.\n",
      "  fig.canvas.draw()\n",
      "/Users/arul/anaconda3/lib/python3.11/site-packages/seaborn/utils.py:80: UserWarning: Glyph 2311 (\\N{DEVANAGARI LETTER I}) missing from current font.\n",
      "  fig.canvas.draw()\n",
      "/Users/arul/anaconda3/lib/python3.11/site-packages/seaborn/utils.py:80: UserWarning: Glyph 2312 (\\N{DEVANAGARI LETTER II}) missing from current font.\n",
      "  fig.canvas.draw()\n",
      "/Users/arul/anaconda3/lib/python3.11/site-packages/seaborn/utils.py:80: UserWarning: Glyph 2313 (\\N{DEVANAGARI LETTER U}) missing from current font.\n",
      "  fig.canvas.draw()\n",
      "/Users/arul/anaconda3/lib/python3.11/site-packages/seaborn/utils.py:80: UserWarning: Glyph 2314 (\\N{DEVANAGARI LETTER UU}) missing from current font.\n",
      "  fig.canvas.draw()\n",
      "/Users/arul/anaconda3/lib/python3.11/site-packages/seaborn/utils.py:80: UserWarning: Glyph 2315 (\\N{DEVANAGARI LETTER VOCALIC R}) missing from current font.\n",
      "  fig.canvas.draw()\n",
      "/Users/arul/anaconda3/lib/python3.11/site-packages/seaborn/utils.py:80: UserWarning: Glyph 2319 (\\N{DEVANAGARI LETTER E}) missing from current font.\n",
      "  fig.canvas.draw()\n",
      "/Users/arul/anaconda3/lib/python3.11/site-packages/seaborn/utils.py:80: UserWarning: Glyph 2320 (\\N{DEVANAGARI LETTER AI}) missing from current font.\n",
      "  fig.canvas.draw()\n",
      "/Users/arul/anaconda3/lib/python3.11/site-packages/seaborn/utils.py:80: UserWarning: Glyph 2323 (\\N{DEVANAGARI LETTER O}) missing from current font.\n",
      "  fig.canvas.draw()\n",
      "/Users/arul/anaconda3/lib/python3.11/site-packages/seaborn/utils.py:80: UserWarning: Glyph 2324 (\\N{DEVANAGARI LETTER AU}) missing from current font.\n",
      "  fig.canvas.draw()\n",
      "/Users/arul/anaconda3/lib/python3.11/site-packages/seaborn/utils.py:80: UserWarning: Glyph 2325 (\\N{DEVANAGARI LETTER KA}) missing from current font.\n",
      "  fig.canvas.draw()\n",
      "/Users/arul/anaconda3/lib/python3.11/site-packages/seaborn/utils.py:80: UserWarning: Glyph 2366 (\\N{DEVANAGARI VOWEL SIGN AA}) missing from current font.\n",
      "  fig.canvas.draw()\n",
      "/Users/arul/anaconda3/lib/python3.11/site-packages/seaborn/utils.py:80: UserWarning: Glyph 2367 (\\N{DEVANAGARI VOWEL SIGN I}) missing from current font.\n",
      "  fig.canvas.draw()\n",
      "/Users/arul/anaconda3/lib/python3.11/site-packages/seaborn/utils.py:80: UserWarning: Glyph 2368 (\\N{DEVANAGARI VOWEL SIGN II}) missing from current font.\n",
      "  fig.canvas.draw()\n",
      "/Users/arul/anaconda3/lib/python3.11/site-packages/seaborn/utils.py:80: UserWarning: Glyph 2369 (\\N{DEVANAGARI VOWEL SIGN U}) missing from current font.\n",
      "  fig.canvas.draw()\n",
      "/Users/arul/anaconda3/lib/python3.11/site-packages/seaborn/utils.py:80: UserWarning: Glyph 2370 (\\N{DEVANAGARI VOWEL SIGN UU}) missing from current font.\n",
      "  fig.canvas.draw()\n",
      "/Users/arul/anaconda3/lib/python3.11/site-packages/seaborn/utils.py:80: UserWarning: Glyph 2375 (\\N{DEVANAGARI VOWEL SIGN E}) missing from current font.\n",
      "  fig.canvas.draw()\n",
      "/Users/arul/anaconda3/lib/python3.11/site-packages/seaborn/utils.py:80: UserWarning: Glyph 2376 (\\N{DEVANAGARI VOWEL SIGN AI}) missing from current font.\n",
      "  fig.canvas.draw()\n",
      "/Users/arul/anaconda3/lib/python3.11/site-packages/seaborn/utils.py:80: UserWarning: Glyph 2379 (\\N{DEVANAGARI VOWEL SIGN O}) missing from current font.\n",
      "  fig.canvas.draw()\n",
      "/Users/arul/anaconda3/lib/python3.11/site-packages/seaborn/utils.py:80: UserWarning: Glyph 2380 (\\N{DEVANAGARI VOWEL SIGN AU}) missing from current font.\n",
      "  fig.canvas.draw()\n",
      "/Users/arul/anaconda3/lib/python3.11/site-packages/seaborn/utils.py:80: UserWarning: Glyph 2326 (\\N{DEVANAGARI LETTER KHA}) missing from current font.\n",
      "  fig.canvas.draw()\n",
      "/Users/arul/anaconda3/lib/python3.11/site-packages/seaborn/utils.py:80: UserWarning: Glyph 2327 (\\N{DEVANAGARI LETTER GA}) missing from current font.\n",
      "  fig.canvas.draw()\n",
      "/Users/arul/anaconda3/lib/python3.11/site-packages/seaborn/utils.py:80: UserWarning: Glyph 2328 (\\N{DEVANAGARI LETTER GHA}) missing from current font.\n",
      "  fig.canvas.draw()\n",
      "/Users/arul/anaconda3/lib/python3.11/site-packages/seaborn/utils.py:80: UserWarning: Glyph 2329 (\\N{DEVANAGARI LETTER NGA}) missing from current font.\n",
      "  fig.canvas.draw()\n",
      "/Users/arul/anaconda3/lib/python3.11/site-packages/seaborn/utils.py:80: UserWarning: Glyph 2330 (\\N{DEVANAGARI LETTER CA}) missing from current font.\n",
      "  fig.canvas.draw()\n",
      "/Users/arul/anaconda3/lib/python3.11/site-packages/seaborn/utils.py:80: UserWarning: Glyph 2331 (\\N{DEVANAGARI LETTER CHA}) missing from current font.\n",
      "  fig.canvas.draw()\n",
      "/Users/arul/anaconda3/lib/python3.11/site-packages/seaborn/utils.py:80: UserWarning: Glyph 2332 (\\N{DEVANAGARI LETTER JA}) missing from current font.\n",
      "  fig.canvas.draw()\n",
      "/Users/arul/anaconda3/lib/python3.11/site-packages/seaborn/utils.py:80: UserWarning: Glyph 2333 (\\N{DEVANAGARI LETTER JHA}) missing from current font.\n",
      "  fig.canvas.draw()\n",
      "/Users/arul/anaconda3/lib/python3.11/site-packages/seaborn/utils.py:80: UserWarning: Glyph 2334 (\\N{DEVANAGARI LETTER NYA}) missing from current font.\n",
      "  fig.canvas.draw()\n",
      "/Users/arul/anaconda3/lib/python3.11/site-packages/seaborn/utils.py:80: UserWarning: Glyph 2335 (\\N{DEVANAGARI LETTER TTA}) missing from current font.\n",
      "  fig.canvas.draw()\n",
      "/Users/arul/anaconda3/lib/python3.11/site-packages/seaborn/utils.py:80: UserWarning: Glyph 2336 (\\N{DEVANAGARI LETTER TTHA}) missing from current font.\n",
      "  fig.canvas.draw()\n",
      "/Users/arul/anaconda3/lib/python3.11/site-packages/seaborn/utils.py:80: UserWarning: Glyph 2337 (\\N{DEVANAGARI LETTER DDA}) missing from current font.\n",
      "  fig.canvas.draw()\n",
      "/Users/arul/anaconda3/lib/python3.11/site-packages/seaborn/utils.py:80: UserWarning: Glyph 2338 (\\N{DEVANAGARI LETTER DDHA}) missing from current font.\n",
      "  fig.canvas.draw()\n",
      "/Users/arul/anaconda3/lib/python3.11/site-packages/seaborn/utils.py:80: UserWarning: Glyph 2339 (\\N{DEVANAGARI LETTER NNA}) missing from current font.\n",
      "  fig.canvas.draw()\n",
      "/Users/arul/anaconda3/lib/python3.11/site-packages/seaborn/utils.py:80: UserWarning: Glyph 2340 (\\N{DEVANAGARI LETTER TA}) missing from current font.\n",
      "  fig.canvas.draw()\n",
      "/Users/arul/anaconda3/lib/python3.11/site-packages/seaborn/utils.py:80: UserWarning: Glyph 2341 (\\N{DEVANAGARI LETTER THA}) missing from current font.\n",
      "  fig.canvas.draw()\n",
      "/Users/arul/anaconda3/lib/python3.11/site-packages/seaborn/utils.py:80: UserWarning: Glyph 2342 (\\N{DEVANAGARI LETTER DA}) missing from current font.\n",
      "  fig.canvas.draw()\n",
      "/Users/arul/anaconda3/lib/python3.11/site-packages/seaborn/utils.py:80: UserWarning: Glyph 2343 (\\N{DEVANAGARI LETTER DHA}) missing from current font.\n",
      "  fig.canvas.draw()\n",
      "/Users/arul/anaconda3/lib/python3.11/site-packages/seaborn/utils.py:80: UserWarning: Glyph 2344 (\\N{DEVANAGARI LETTER NA}) missing from current font.\n",
      "  fig.canvas.draw()\n",
      "/Users/arul/anaconda3/lib/python3.11/site-packages/seaborn/utils.py:80: UserWarning: Glyph 2346 (\\N{DEVANAGARI LETTER PA}) missing from current font.\n",
      "  fig.canvas.draw()\n",
      "/Users/arul/anaconda3/lib/python3.11/site-packages/seaborn/utils.py:80: UserWarning: Glyph 2347 (\\N{DEVANAGARI LETTER PHA}) missing from current font.\n",
      "  fig.canvas.draw()\n",
      "/Users/arul/anaconda3/lib/python3.11/site-packages/seaborn/utils.py:80: UserWarning: Glyph 2348 (\\N{DEVANAGARI LETTER BA}) missing from current font.\n",
      "  fig.canvas.draw()\n",
      "/Users/arul/anaconda3/lib/python3.11/site-packages/seaborn/utils.py:80: UserWarning: Glyph 2349 (\\N{DEVANAGARI LETTER BHA}) missing from current font.\n",
      "  fig.canvas.draw()\n",
      "/Users/arul/anaconda3/lib/python3.11/site-packages/seaborn/utils.py:80: UserWarning: Glyph 2350 (\\N{DEVANAGARI LETTER MA}) missing from current font.\n",
      "  fig.canvas.draw()\n",
      "/Users/arul/anaconda3/lib/python3.11/site-packages/seaborn/utils.py:80: UserWarning: Glyph 2351 (\\N{DEVANAGARI LETTER YA}) missing from current font.\n",
      "  fig.canvas.draw()\n",
      "/Users/arul/anaconda3/lib/python3.11/site-packages/seaborn/utils.py:80: UserWarning: Glyph 2352 (\\N{DEVANAGARI LETTER RA}) missing from current font.\n",
      "  fig.canvas.draw()\n",
      "/Users/arul/anaconda3/lib/python3.11/site-packages/seaborn/utils.py:80: UserWarning: Glyph 2354 (\\N{DEVANAGARI LETTER LA}) missing from current font.\n",
      "  fig.canvas.draw()\n",
      "/Users/arul/anaconda3/lib/python3.11/site-packages/seaborn/utils.py:80: UserWarning: Glyph 2357 (\\N{DEVANAGARI LETTER VA}) missing from current font.\n",
      "  fig.canvas.draw()\n",
      "/Users/arul/anaconda3/lib/python3.11/site-packages/seaborn/utils.py:80: UserWarning: Glyph 2358 (\\N{DEVANAGARI LETTER SHA}) missing from current font.\n",
      "  fig.canvas.draw()\n",
      "/Users/arul/anaconda3/lib/python3.11/site-packages/seaborn/utils.py:80: UserWarning: Glyph 2359 (\\N{DEVANAGARI LETTER SSA}) missing from current font.\n",
      "  fig.canvas.draw()\n",
      "/Users/arul/anaconda3/lib/python3.11/site-packages/seaborn/utils.py:80: UserWarning: Glyph 2360 (\\N{DEVANAGARI LETTER SA}) missing from current font.\n",
      "  fig.canvas.draw()\n",
      "/Users/arul/anaconda3/lib/python3.11/site-packages/seaborn/utils.py:80: UserWarning: Glyph 2361 (\\N{DEVANAGARI LETTER HA}) missing from current font.\n",
      "  fig.canvas.draw()\n",
      "/Users/arul/anaconda3/lib/python3.11/site-packages/IPython/core/pylabtools.py:152: UserWarning: Glyph 2309 (\\N{DEVANAGARI LETTER A}) missing from current font.\n",
      "  fig.canvas.print_figure(bytes_io, **kw)\n",
      "/Users/arul/anaconda3/lib/python3.11/site-packages/IPython/core/pylabtools.py:152: UserWarning: Matplotlib currently does not support Devanagari natively.\n",
      "  fig.canvas.print_figure(bytes_io, **kw)\n",
      "/Users/arul/anaconda3/lib/python3.11/site-packages/IPython/core/pylabtools.py:152: UserWarning: Glyph 2306 (\\N{DEVANAGARI SIGN ANUSVARA}) missing from current font.\n",
      "  fig.canvas.print_figure(bytes_io, **kw)\n",
      "/Users/arul/anaconda3/lib/python3.11/site-packages/IPython/core/pylabtools.py:152: UserWarning: Glyph 2307 (\\N{DEVANAGARI SIGN VISARGA}) missing from current font.\n",
      "  fig.canvas.print_figure(bytes_io, **kw)\n",
      "/Users/arul/anaconda3/lib/python3.11/site-packages/IPython/core/pylabtools.py:152: UserWarning: Glyph 2310 (\\N{DEVANAGARI LETTER AA}) missing from current font.\n",
      "  fig.canvas.print_figure(bytes_io, **kw)\n",
      "/Users/arul/anaconda3/lib/python3.11/site-packages/IPython/core/pylabtools.py:152: UserWarning: Glyph 2311 (\\N{DEVANAGARI LETTER I}) missing from current font.\n",
      "  fig.canvas.print_figure(bytes_io, **kw)\n",
      "/Users/arul/anaconda3/lib/python3.11/site-packages/IPython/core/pylabtools.py:152: UserWarning: Glyph 2312 (\\N{DEVANAGARI LETTER II}) missing from current font.\n",
      "  fig.canvas.print_figure(bytes_io, **kw)\n",
      "/Users/arul/anaconda3/lib/python3.11/site-packages/IPython/core/pylabtools.py:152: UserWarning: Glyph 2313 (\\N{DEVANAGARI LETTER U}) missing from current font.\n",
      "  fig.canvas.print_figure(bytes_io, **kw)\n",
      "/Users/arul/anaconda3/lib/python3.11/site-packages/IPython/core/pylabtools.py:152: UserWarning: Glyph 2314 (\\N{DEVANAGARI LETTER UU}) missing from current font.\n",
      "  fig.canvas.print_figure(bytes_io, **kw)\n",
      "/Users/arul/anaconda3/lib/python3.11/site-packages/IPython/core/pylabtools.py:152: UserWarning: Glyph 2315 (\\N{DEVANAGARI LETTER VOCALIC R}) missing from current font.\n",
      "  fig.canvas.print_figure(bytes_io, **kw)\n",
      "/Users/arul/anaconda3/lib/python3.11/site-packages/IPython/core/pylabtools.py:152: UserWarning: Glyph 2319 (\\N{DEVANAGARI LETTER E}) missing from current font.\n",
      "  fig.canvas.print_figure(bytes_io, **kw)\n",
      "/Users/arul/anaconda3/lib/python3.11/site-packages/IPython/core/pylabtools.py:152: UserWarning: Glyph 2320 (\\N{DEVANAGARI LETTER AI}) missing from current font.\n",
      "  fig.canvas.print_figure(bytes_io, **kw)\n",
      "/Users/arul/anaconda3/lib/python3.11/site-packages/IPython/core/pylabtools.py:152: UserWarning: Glyph 2323 (\\N{DEVANAGARI LETTER O}) missing from current font.\n",
      "  fig.canvas.print_figure(bytes_io, **kw)\n",
      "/Users/arul/anaconda3/lib/python3.11/site-packages/IPython/core/pylabtools.py:152: UserWarning: Glyph 2324 (\\N{DEVANAGARI LETTER AU}) missing from current font.\n",
      "  fig.canvas.print_figure(bytes_io, **kw)\n",
      "/Users/arul/anaconda3/lib/python3.11/site-packages/IPython/core/pylabtools.py:152: UserWarning: Glyph 2325 (\\N{DEVANAGARI LETTER KA}) missing from current font.\n",
      "  fig.canvas.print_figure(bytes_io, **kw)\n",
      "/Users/arul/anaconda3/lib/python3.11/site-packages/IPython/core/pylabtools.py:152: UserWarning: Glyph 2366 (\\N{DEVANAGARI VOWEL SIGN AA}) missing from current font.\n",
      "  fig.canvas.print_figure(bytes_io, **kw)\n",
      "/Users/arul/anaconda3/lib/python3.11/site-packages/IPython/core/pylabtools.py:152: UserWarning: Glyph 2367 (\\N{DEVANAGARI VOWEL SIGN I}) missing from current font.\n",
      "  fig.canvas.print_figure(bytes_io, **kw)\n",
      "/Users/arul/anaconda3/lib/python3.11/site-packages/IPython/core/pylabtools.py:152: UserWarning: Glyph 2368 (\\N{DEVANAGARI VOWEL SIGN II}) missing from current font.\n",
      "  fig.canvas.print_figure(bytes_io, **kw)\n",
      "/Users/arul/anaconda3/lib/python3.11/site-packages/IPython/core/pylabtools.py:152: UserWarning: Glyph 2369 (\\N{DEVANAGARI VOWEL SIGN U}) missing from current font.\n",
      "  fig.canvas.print_figure(bytes_io, **kw)\n",
      "/Users/arul/anaconda3/lib/python3.11/site-packages/IPython/core/pylabtools.py:152: UserWarning: Glyph 2370 (\\N{DEVANAGARI VOWEL SIGN UU}) missing from current font.\n",
      "  fig.canvas.print_figure(bytes_io, **kw)\n",
      "/Users/arul/anaconda3/lib/python3.11/site-packages/IPython/core/pylabtools.py:152: UserWarning: Glyph 2375 (\\N{DEVANAGARI VOWEL SIGN E}) missing from current font.\n",
      "  fig.canvas.print_figure(bytes_io, **kw)\n",
      "/Users/arul/anaconda3/lib/python3.11/site-packages/IPython/core/pylabtools.py:152: UserWarning: Glyph 2376 (\\N{DEVANAGARI VOWEL SIGN AI}) missing from current font.\n",
      "  fig.canvas.print_figure(bytes_io, **kw)\n",
      "/Users/arul/anaconda3/lib/python3.11/site-packages/IPython/core/pylabtools.py:152: UserWarning: Glyph 2379 (\\N{DEVANAGARI VOWEL SIGN O}) missing from current font.\n",
      "  fig.canvas.print_figure(bytes_io, **kw)\n",
      "/Users/arul/anaconda3/lib/python3.11/site-packages/IPython/core/pylabtools.py:152: UserWarning: Glyph 2380 (\\N{DEVANAGARI VOWEL SIGN AU}) missing from current font.\n",
      "  fig.canvas.print_figure(bytes_io, **kw)\n",
      "/Users/arul/anaconda3/lib/python3.11/site-packages/IPython/core/pylabtools.py:152: UserWarning: Glyph 2326 (\\N{DEVANAGARI LETTER KHA}) missing from current font.\n",
      "  fig.canvas.print_figure(bytes_io, **kw)\n",
      "/Users/arul/anaconda3/lib/python3.11/site-packages/IPython/core/pylabtools.py:152: UserWarning: Glyph 2327 (\\N{DEVANAGARI LETTER GA}) missing from current font.\n",
      "  fig.canvas.print_figure(bytes_io, **kw)\n",
      "/Users/arul/anaconda3/lib/python3.11/site-packages/IPython/core/pylabtools.py:152: UserWarning: Glyph 2328 (\\N{DEVANAGARI LETTER GHA}) missing from current font.\n",
      "  fig.canvas.print_figure(bytes_io, **kw)\n",
      "/Users/arul/anaconda3/lib/python3.11/site-packages/IPython/core/pylabtools.py:152: UserWarning: Glyph 2329 (\\N{DEVANAGARI LETTER NGA}) missing from current font.\n",
      "  fig.canvas.print_figure(bytes_io, **kw)\n",
      "/Users/arul/anaconda3/lib/python3.11/site-packages/IPython/core/pylabtools.py:152: UserWarning: Glyph 2330 (\\N{DEVANAGARI LETTER CA}) missing from current font.\n",
      "  fig.canvas.print_figure(bytes_io, **kw)\n",
      "/Users/arul/anaconda3/lib/python3.11/site-packages/IPython/core/pylabtools.py:152: UserWarning: Glyph 2331 (\\N{DEVANAGARI LETTER CHA}) missing from current font.\n",
      "  fig.canvas.print_figure(bytes_io, **kw)\n",
      "/Users/arul/anaconda3/lib/python3.11/site-packages/IPython/core/pylabtools.py:152: UserWarning: Glyph 2332 (\\N{DEVANAGARI LETTER JA}) missing from current font.\n",
      "  fig.canvas.print_figure(bytes_io, **kw)\n",
      "/Users/arul/anaconda3/lib/python3.11/site-packages/IPython/core/pylabtools.py:152: UserWarning: Glyph 2333 (\\N{DEVANAGARI LETTER JHA}) missing from current font.\n",
      "  fig.canvas.print_figure(bytes_io, **kw)\n",
      "/Users/arul/anaconda3/lib/python3.11/site-packages/IPython/core/pylabtools.py:152: UserWarning: Glyph 2334 (\\N{DEVANAGARI LETTER NYA}) missing from current font.\n",
      "  fig.canvas.print_figure(bytes_io, **kw)\n",
      "/Users/arul/anaconda3/lib/python3.11/site-packages/IPython/core/pylabtools.py:152: UserWarning: Glyph 2335 (\\N{DEVANAGARI LETTER TTA}) missing from current font.\n",
      "  fig.canvas.print_figure(bytes_io, **kw)\n",
      "/Users/arul/anaconda3/lib/python3.11/site-packages/IPython/core/pylabtools.py:152: UserWarning: Glyph 2336 (\\N{DEVANAGARI LETTER TTHA}) missing from current font.\n",
      "  fig.canvas.print_figure(bytes_io, **kw)\n",
      "/Users/arul/anaconda3/lib/python3.11/site-packages/IPython/core/pylabtools.py:152: UserWarning: Glyph 2337 (\\N{DEVANAGARI LETTER DDA}) missing from current font.\n",
      "  fig.canvas.print_figure(bytes_io, **kw)\n",
      "/Users/arul/anaconda3/lib/python3.11/site-packages/IPython/core/pylabtools.py:152: UserWarning: Glyph 2338 (\\N{DEVANAGARI LETTER DDHA}) missing from current font.\n",
      "  fig.canvas.print_figure(bytes_io, **kw)\n",
      "/Users/arul/anaconda3/lib/python3.11/site-packages/IPython/core/pylabtools.py:152: UserWarning: Glyph 2339 (\\N{DEVANAGARI LETTER NNA}) missing from current font.\n",
      "  fig.canvas.print_figure(bytes_io, **kw)\n",
      "/Users/arul/anaconda3/lib/python3.11/site-packages/IPython/core/pylabtools.py:152: UserWarning: Glyph 2340 (\\N{DEVANAGARI LETTER TA}) missing from current font.\n",
      "  fig.canvas.print_figure(bytes_io, **kw)\n",
      "/Users/arul/anaconda3/lib/python3.11/site-packages/IPython/core/pylabtools.py:152: UserWarning: Glyph 2341 (\\N{DEVANAGARI LETTER THA}) missing from current font.\n",
      "  fig.canvas.print_figure(bytes_io, **kw)\n",
      "/Users/arul/anaconda3/lib/python3.11/site-packages/IPython/core/pylabtools.py:152: UserWarning: Glyph 2342 (\\N{DEVANAGARI LETTER DA}) missing from current font.\n",
      "  fig.canvas.print_figure(bytes_io, **kw)\n",
      "/Users/arul/anaconda3/lib/python3.11/site-packages/IPython/core/pylabtools.py:152: UserWarning: Glyph 2343 (\\N{DEVANAGARI LETTER DHA}) missing from current font.\n",
      "  fig.canvas.print_figure(bytes_io, **kw)\n",
      "/Users/arul/anaconda3/lib/python3.11/site-packages/IPython/core/pylabtools.py:152: UserWarning: Glyph 2344 (\\N{DEVANAGARI LETTER NA}) missing from current font.\n",
      "  fig.canvas.print_figure(bytes_io, **kw)\n",
      "/Users/arul/anaconda3/lib/python3.11/site-packages/IPython/core/pylabtools.py:152: UserWarning: Glyph 2346 (\\N{DEVANAGARI LETTER PA}) missing from current font.\n",
      "  fig.canvas.print_figure(bytes_io, **kw)\n",
      "/Users/arul/anaconda3/lib/python3.11/site-packages/IPython/core/pylabtools.py:152: UserWarning: Glyph 2347 (\\N{DEVANAGARI LETTER PHA}) missing from current font.\n",
      "  fig.canvas.print_figure(bytes_io, **kw)\n",
      "/Users/arul/anaconda3/lib/python3.11/site-packages/IPython/core/pylabtools.py:152: UserWarning: Glyph 2348 (\\N{DEVANAGARI LETTER BA}) missing from current font.\n",
      "  fig.canvas.print_figure(bytes_io, **kw)\n",
      "/Users/arul/anaconda3/lib/python3.11/site-packages/IPython/core/pylabtools.py:152: UserWarning: Glyph 2349 (\\N{DEVANAGARI LETTER BHA}) missing from current font.\n",
      "  fig.canvas.print_figure(bytes_io, **kw)\n",
      "/Users/arul/anaconda3/lib/python3.11/site-packages/IPython/core/pylabtools.py:152: UserWarning: Glyph 2350 (\\N{DEVANAGARI LETTER MA}) missing from current font.\n",
      "  fig.canvas.print_figure(bytes_io, **kw)\n",
      "/Users/arul/anaconda3/lib/python3.11/site-packages/IPython/core/pylabtools.py:152: UserWarning: Glyph 2351 (\\N{DEVANAGARI LETTER YA}) missing from current font.\n",
      "  fig.canvas.print_figure(bytes_io, **kw)\n",
      "/Users/arul/anaconda3/lib/python3.11/site-packages/IPython/core/pylabtools.py:152: UserWarning: Glyph 2352 (\\N{DEVANAGARI LETTER RA}) missing from current font.\n",
      "  fig.canvas.print_figure(bytes_io, **kw)\n",
      "/Users/arul/anaconda3/lib/python3.11/site-packages/IPython/core/pylabtools.py:152: UserWarning: Glyph 2354 (\\N{DEVANAGARI LETTER LA}) missing from current font.\n",
      "  fig.canvas.print_figure(bytes_io, **kw)\n",
      "/Users/arul/anaconda3/lib/python3.11/site-packages/IPython/core/pylabtools.py:152: UserWarning: Glyph 2357 (\\N{DEVANAGARI LETTER VA}) missing from current font.\n",
      "  fig.canvas.print_figure(bytes_io, **kw)\n",
      "/Users/arul/anaconda3/lib/python3.11/site-packages/IPython/core/pylabtools.py:152: UserWarning: Glyph 2358 (\\N{DEVANAGARI LETTER SHA}) missing from current font.\n",
      "  fig.canvas.print_figure(bytes_io, **kw)\n",
      "/Users/arul/anaconda3/lib/python3.11/site-packages/IPython/core/pylabtools.py:152: UserWarning: Glyph 2359 (\\N{DEVANAGARI LETTER SSA}) missing from current font.\n",
      "  fig.canvas.print_figure(bytes_io, **kw)\n",
      "/Users/arul/anaconda3/lib/python3.11/site-packages/IPython/core/pylabtools.py:152: UserWarning: Glyph 2360 (\\N{DEVANAGARI LETTER SA}) missing from current font.\n",
      "  fig.canvas.print_figure(bytes_io, **kw)\n",
      "/Users/arul/anaconda3/lib/python3.11/site-packages/IPython/core/pylabtools.py:152: UserWarning: Glyph 2361 (\\N{DEVANAGARI LETTER HA}) missing from current font.\n",
      "  fig.canvas.print_figure(bytes_io, **kw)\n"
     ]
    },
    {
     "data": {
      "image/png": "[encoded data removed]",
      "text/plain": [
       "<Figure size 1000x800 with 1 Axes>"
      ]
     },
     "metadata": {},
     "output_type": "display_data"
    }
   ],
   "source": [
    "# Plot confusion matrix\n",
    "plt.figure(figsize=(10, 8))\n",
    "sns.heatmap(cm, annot=True, fmt='d', cmap='Blues', cbar=False,\n",
    "            xticklabels=label_encoder.classes_,\n",
    "            yticklabels=label_encoder.classes_)\n",
    "plt.xlabel('Predicted Labels')\n",
    "plt.ylabel('True Labels')\n",
    "plt.title('Confusion Matrix')\n",
    "plt.show()"
   ]
  },
  {
   "cell_type": "code",
   "execution_count": 44,
   "id": "73c3f320",
   "metadata": {
    "collapsed": true
   },
   "outputs": [
    {
     "name": "stdout",
     "output_type": "stream",
     "text": [
      "              precision    recall  f1-score   support\n",
      "\n",
      "           अ       0.96      0.99      0.98       158\n",
      "          अं       0.95      1.00      0.97       158\n",
      "          अः       0.88      1.00      0.94       158\n",
      "           आ       0.83      1.00      0.91       158\n",
      "           इ       0.51      0.99      0.67       158\n",
      "           ई       0.44      1.00      0.61       158\n",
      "           उ       0.99      1.00      1.00       158\n",
      "           ऊ       0.99      1.00      1.00       158\n",
      "           ऋ       0.99      1.00      1.00       158\n",
      "           ए       0.96      1.00      0.98       158\n",
      "           ऐ       0.98      0.99      0.99       158\n",
      "           ओ       0.95      1.00      0.97       158\n",
      "           औ       0.84      1.00      0.91       158\n",
      "           क       0.99      1.00      0.99       158\n",
      "          कं       0.97      1.00      0.98       158\n",
      "          कः       0.93      1.00      0.97       158\n",
      "          का       0.95      1.00      0.97       158\n",
      "          कि       0.88      1.00      0.93       158\n",
      "          की       0.97      1.00      0.98       158\n",
      "          कु       1.00      1.00      1.00       158\n",
      "          कू       0.93      1.00      0.97       158\n",
      "          के       0.98      1.00      0.99       158\n",
      "          कै       1.00      0.99      0.99       158\n",
      "          को       0.96      1.00      0.98       158\n",
      "          कौ       0.93      0.99      0.96       158\n",
      "           ख       0.95      1.00      0.97       158\n",
      "          खं       0.93      0.99      0.96       158\n",
      "          खः       0.99      0.97      0.98       158\n",
      "          खा       0.78      1.00      0.88       158\n",
      "          खि       0.99      1.00      0.99       158\n",
      "          खी       0.86      1.00      0.92       158\n",
      "          खु       0.77      1.00      0.87       158\n",
      "          खू       0.66      1.00      0.80       158\n",
      "          खे       0.84      1.00      0.91       158\n",
      "          खै       0.77      1.00      0.87       158\n",
      "          खो       0.83      0.99      0.90       158\n",
      "          खौ       0.79      1.00      0.88       158\n",
      "           ग       0.97      1.00      0.98       158\n",
      "          गं       0.89      1.00      0.94       158\n",
      "          गः       0.99      0.98      0.99       158\n",
      "          गा       0.94      0.99      0.97       158\n",
      "          गि       0.78      1.00      0.88       158\n",
      "          गी       0.99      1.00      1.00       158\n",
      "          गु       0.91      1.00      0.95       158\n",
      "          गू       0.93      1.00      0.97       158\n",
      "          गे       0.84      1.00      0.91       158\n",
      "          गै       0.76      1.00      0.86       158\n",
      "          गो       0.96      0.99      0.98       158\n",
      "          गौ       0.89      1.00      0.94       158\n",
      "           घ       0.95      1.00      0.98       158\n",
      "          घं       0.99      1.00      1.00       158\n",
      "          घः       0.95      0.98      0.96       158\n",
      "          घा       0.88      0.96      0.92       158\n",
      "          घि       0.91      0.97      0.94       158\n",
      "          घी       0.87      0.99      0.93       158\n",
      "          घु       0.98      0.99      0.98       158\n",
      "          घू       0.79      1.00      0.88       158\n",
      "          घे       0.92      0.99      0.95       158\n",
      "          घै       0.96      1.00      0.98       158\n",
      "          घो       0.91      0.97      0.94       158\n",
      "           ङ       0.99      1.00      0.99       158\n",
      "           च       0.72      1.00      0.84       158\n",
      "          चं       0.66      1.00      0.80       158\n",
      "          चः       0.94      0.99      0.97       158\n",
      "          चा       0.50      0.99      0.67       158\n",
      "          चि       0.67      0.99      0.80       158\n",
      "          ची       0.79      0.99      0.88       158\n",
      "          चु       0.58      1.00      0.73       158\n",
      "          चू       0.66      1.00      0.80       158\n",
      "          चे       0.82      1.00      0.90       158\n",
      "          चै       0.64      1.00      0.78       158\n",
      "          चो       0.62      0.99      0.76       158\n",
      "          चौ       0.72      1.00      0.84       158\n",
      "           छ       0.90      1.00      0.95       158\n",
      "          छं       0.98      1.00      0.99       158\n",
      "          छः       0.93      0.96      0.94       158\n",
      "          छा       0.91      1.00      0.95       158\n",
      "          छि       0.88      1.00      0.94       158\n",
      "          छी       0.86      1.00      0.93       158\n",
      "          छु       0.73      0.99      0.84       158\n",
      "          छू       0.73      1.00      0.84       158\n",
      "          छे       0.89      0.97      0.93       158\n",
      "          छै       0.87      0.99      0.93       158\n",
      "          छो       0.88      0.99      0.93       158\n",
      "          छौ       0.99      0.94      0.96       158\n",
      "           ज       0.95      0.99      0.97       158\n",
      "          जं       0.87      1.00      0.93       158\n",
      "          जः       0.99      1.00      0.99       158\n",
      "          जा       0.85      1.00      0.92       158\n",
      "          जि       0.77      1.00      0.87       158\n",
      "          जी       0.89      1.00      0.94       158\n",
      "          जु       0.78      1.00      0.88       158\n",
      "          जू       0.86      0.97      0.91       158\n",
      "          जे       0.90      1.00      0.95       158\n",
      "          जै       0.89      1.00      0.94       158\n",
      "          जो       0.81      1.00      0.89       158\n",
      "          जौ       0.88      1.00      0.93       158\n",
      "           झ       0.92      1.00      0.96       158\n",
      "          झं       0.91      0.99      0.95       158\n",
      "          झः       0.84      1.00      0.91       158\n",
      "          झा       0.76      1.00      0.86       158\n",
      "          झि       0.68      1.00      0.81       158\n",
      "          झी       0.87      1.00      0.93       158\n",
      "          झु       0.85      1.00      0.92       158\n",
      "          झू       0.91      0.99      0.95       158\n",
      "          झे       0.61      1.00      0.75       158\n",
      "          झै       0.67      0.99      0.80       158\n",
      "          झो       0.59      1.00      0.74       158\n",
      "          झौ       0.73      1.00      0.85       158\n",
      "           ञ       0.98      1.00      0.99       158\n",
      "           ट       0.99      1.00      0.99       158\n",
      "          टं       0.99      1.00      1.00       158\n",
      "          टः       0.80      0.99      0.88       158\n",
      "          टा       0.87      1.00      0.93       158\n",
      "          टि       0.88      0.99      0.93       158\n",
      "          टी       1.00      0.99      1.00       158\n",
      "          टु       0.93      0.97      0.95       158\n",
      "          टू       0.94      0.99      0.96       158\n",
      "          टे       0.95      1.00      0.98       158\n",
      "          टै       0.90      1.00      0.95       158\n",
      "          टो       0.96      1.00      0.98       158\n",
      "          टौ       1.00      0.81      0.90       158\n",
      "           ठ       0.93      1.00      0.96       158\n",
      "          ठं       0.91      1.00      0.95       158\n",
      "          ठः       0.95      0.99      0.97       158\n",
      "          ठा       0.99      0.97      0.98       158\n",
      "          ठि       1.00      1.00      1.00       158\n",
      "          ठी       0.88      1.00      0.94       158\n",
      "          ठु       0.85      1.00      0.92       158\n",
      "          ठू       0.84      0.99      0.91       158\n",
      "          ठे       0.95      1.00      0.98       158\n",
      "          ठै       0.94      0.99      0.96       158\n",
      "          ठो       0.98      1.00      0.99       158\n",
      "          ठौ       0.95      1.00      0.97       158\n",
      "           ड       0.99      1.00      1.00       158\n",
      "          डं       0.95      1.00      0.98       158\n",
      "          डः       0.85      1.00      0.92       158\n",
      "          डा       0.72      0.99      0.84       158\n",
      "          डि       0.67      1.00      0.80       158\n",
      "          डी       0.67      0.99      0.80       158\n",
      "          डु       0.64      1.00      0.78       158\n",
      "          डू       0.54      1.00      0.70       158\n",
      "          डे       0.64      1.00      0.78       158\n",
      "          डै       0.77      0.99      0.87       158\n",
      "          डो       0.89      1.00      0.94       158\n",
      "          डौ       0.61      1.00      0.75       158\n",
      "           ढ       0.88      1.00      0.93       158\n",
      "          ढं       0.87      1.00      0.93       158\n",
      "          ढः       0.92      1.00      0.96       158\n",
      "          ढा       0.77      1.00      0.87       158\n",
      "          ढि       0.84      1.00      0.92       158\n",
      "          ढी       0.99      0.99      0.99       158\n",
      "          ढु       0.98      0.99      0.99       158\n",
      "          ढू       0.99      1.00      1.00       158\n",
      "          ढे       0.76      1.00      0.86       158\n",
      "          ढै       0.88      1.00      0.94       158\n",
      "          ढो       0.96      0.98      0.97       158\n",
      "          ढौ       0.99      1.00      1.00       158\n",
      "           ण       0.99      1.00      1.00       158\n",
      "          णं       0.97      1.00      0.98       158\n",
      "          णः       1.00      1.00      1.00       158\n",
      "          णा       1.00      1.00      1.00       158\n",
      "          णि       0.84      1.00      0.92       158\n",
      "          णी       0.86      0.99      0.92       158\n",
      "          णु       0.87      1.00      0.93       158\n",
      "          णू       0.75      1.00      0.86       158\n",
      "          णे       0.92      0.98      0.95       158\n",
      "          णै       0.96      1.00      0.98       158\n",
      "          णो       0.86      1.00      0.93       158\n",
      "          णौ       0.93      1.00      0.97       158\n",
      "           त       0.74      1.00      0.85       158\n",
      "          तं       0.78      1.00      0.88       158\n",
      "          तः       0.58      1.00      0.73       158\n",
      "          ता       0.83      1.00      0.91       158\n",
      "          ति       0.99      0.98      0.99       158\n",
      "          ती       0.96      1.00      0.98       158\n",
      "          तु       0.88      1.00      0.94       158\n",
      "          तू       0.67      1.00      0.80       158\n",
      "          ते       0.85      0.99      0.92       158\n",
      "          तै       0.70      1.00      0.82       158\n",
      "          तो       0.87      1.00      0.93       158\n",
      "          तौ       0.67      1.00      0.80       158\n",
      "           थ       0.66      0.99      0.79       158\n",
      "          थं       0.61      1.00      0.76       158\n",
      "          थः       0.68      1.00      0.81       158\n",
      "          था       0.49      1.00      0.65       158\n",
      "          थि       0.62      0.99      0.77       158\n",
      "          थी       0.59      0.98      0.74       158\n",
      "          थु       0.61      1.00      0.76       158\n",
      "          थू       0.95      1.00      0.97       158\n",
      "          थे       0.59      0.99      0.74       158\n",
      "          थै       0.60      1.00      0.75       158\n",
      "          थो       0.54      1.00      0.70       158\n",
      "          थौ       0.64      1.00      0.78       158\n",
      "           द       0.96      0.96      0.96       158\n",
      "          दं       0.91      1.00      0.95       158\n",
      "          दः       0.63      1.00      0.78       158\n",
      "          दा       0.99      0.99      0.99       158\n",
      "          दि       0.89      0.99      0.94       158\n",
      "          दी       0.73      1.00      0.84       158\n",
      "          दु       0.99      1.00      0.99       158\n",
      "          दू       0.88      1.00      0.93       158\n",
      "          दे       0.63      0.99      0.77       158\n",
      "          दै       0.66      1.00      0.79       158\n",
      "          दो       0.99      0.98      0.99       158\n",
      "          दौ       0.99      0.99      0.99       158\n",
      "           ध       0.91      1.00      0.95       158\n",
      "          धं       0.93      0.99      0.96       158\n",
      "          धः       0.86      1.00      0.92       158\n",
      "          धा       0.90      1.00      0.95       158\n",
      "          धि       0.95      0.97      0.96       158\n",
      "          धी       0.92      0.99      0.95       158\n",
      "          धु       0.93      1.00      0.97       158\n",
      "          धू       0.95      0.99      0.97       158\n",
      "          धे       0.95      1.00      0.98       158\n",
      "          धै       0.96      1.00      0.98       158\n",
      "          धो       0.97      1.00      0.98       158\n",
      "          धौ       0.86      0.99      0.92       158\n",
      "           न       0.68      1.00      0.81       158\n",
      "          नं       0.74      0.98      0.84       158\n",
      "          नः       0.75      1.00      0.85       158\n",
      "          ना       0.74      0.97      0.84       158\n",
      "          नि       0.61      1.00      0.75       158\n",
      "          नी       0.58      1.00      0.73       158\n",
      "          नु       0.68      1.00      0.81       158\n",
      "          नू       0.71      1.00      0.83       158\n",
      "          ने       0.60      1.00      0.75       158\n",
      "          नै       0.62      1.00      0.77       158\n",
      "          नो       0.72      1.00      0.84       158\n",
      "          नौ       0.78      1.00      0.88       158\n",
      "           प       0.64      1.00      0.78       158\n",
      "          पं       0.52      1.00      0.68       158\n",
      "          पः       0.60      1.00      0.75       158\n",
      "          पा       0.58      1.00      0.74       158\n",
      "          पि       0.75      1.00      0.86       158\n",
      "          पी       0.74      1.00      0.85       158\n",
      "          पु       0.75      0.97      0.84       158\n",
      "          पू       0.51      1.00      0.68       158\n",
      "          पे       0.52      1.00      0.69       158\n",
      "          पै       0.58      1.00      0.74       158\n",
      "          पो       0.79      1.00      0.88       158\n",
      "          पौ       0.69      0.99      0.82       158\n",
      "           फ       0.98      1.00      0.99       158\n",
      "          फं       0.98      1.00      0.99       158\n",
      "          फः       0.99      1.00      1.00       158\n",
      "          फा       0.99      0.99      0.99       158\n",
      "          फि       1.00      0.99      1.00       158\n",
      "          फी       0.86      1.00      0.92       158\n",
      "          फु       1.00      1.00      1.00       158\n",
      "          फू       0.99      1.00      1.00       158\n",
      "          फे       1.00      0.99      1.00       158\n",
      "          फै       0.97      1.00      0.98       158\n",
      "          फो       1.00      0.98      0.99       158\n",
      "          फौ       0.99      0.99      0.99       158\n",
      "           ब       0.73      0.99      0.84       158\n",
      "          बं       0.68      0.99      0.81       158\n",
      "          बः       0.71      1.00      0.83       158\n",
      "          बा       0.88      0.99      0.93       158\n",
      "          बि       0.61      1.00      0.76       158\n",
      "          बी       0.60      1.00      0.75       158\n",
      "          बु       0.72      1.00      0.84       158\n",
      "          बू       0.77      1.00      0.87       158\n",
      "          बे       0.51      0.99      0.68       158\n",
      "          बै       0.53      1.00      0.69       158\n",
      "          बो       0.59      1.00      0.75       158\n",
      "          बौ       0.65      0.99      0.78       158\n",
      "           भ       0.98      1.00      0.99       158\n",
      "          भं       0.92      1.00      0.96       158\n",
      "          भः       0.77      1.00      0.87       158\n",
      "          भा       0.94      1.00      0.97       158\n",
      "          भि       0.79      1.00      0.88       158\n",
      "          भी       0.89      1.00      0.94       158\n",
      "          भु       0.98      1.00      0.99       158\n",
      "          भू       0.95      0.99      0.97       158\n",
      "          भे       0.88      1.00      0.93       158\n",
      "          भै       0.80      1.00      0.89       158\n",
      "          भो       0.90      1.00      0.95       158\n",
      "          भौ       0.98      1.00      0.99       158\n",
      "           म       0.68      1.00      0.81       158\n",
      "          मं       0.59      1.00      0.74       158\n",
      "          मः       0.64      0.99      0.78       158\n",
      "          मा       0.79      0.96      0.87       158\n",
      "          मि       0.65      1.00      0.79       158\n",
      "          मी       0.59      1.00      0.74       158\n",
      "          मु       0.66      1.00      0.80       158\n",
      "          मू       0.72      0.99      0.84       158\n",
      "          मे       0.58      1.00      0.73       158\n",
      "          मै       0.50      1.00      0.67       158\n",
      "          मो       0.73      1.00      0.85       158\n",
      "          मौ       0.56      0.99      0.72       158\n",
      "           य       0.95      0.99      0.97       158\n",
      "          यं       0.89      1.00      0.94       158\n",
      "          यः       0.92      1.00      0.96       158\n",
      "          या       0.93      0.99      0.96       158\n",
      "          यि       0.84      1.00      0.91       158\n",
      "          यी       0.84      1.00      0.91       158\n",
      "          यु       0.86      1.00      0.92       158\n",
      "          यू       0.94      0.99      0.97       158\n",
      "          ये       0.51      1.00      0.68       158\n",
      "          यै       0.62      1.00      0.77       158\n",
      "          यो       0.99      0.99      0.99       158\n",
      "          यौ       0.77      1.00      0.87       158\n",
      "           र       0.97      0.99      0.98       158\n",
      "          रं       0.98      0.99      0.98       158\n",
      "          रः       0.67      1.00      0.80       158\n",
      "          रा       0.52      0.99      0.68       158\n",
      "          रि       0.95      1.00      0.98       158\n",
      "          री       0.88      1.00      0.94       158\n",
      "          रे       0.00      0.00      0.00       158\n",
      "          रै       0.00      0.00      0.00       158\n",
      "          रो       0.00      0.00      0.00       158\n",
      "          रौ       0.00      0.00      0.00       158\n",
      "           ल       0.00      0.00      0.00       158\n",
      "          लं       0.00      0.00      0.00       158\n",
      "          लः       0.00      0.00      0.00       158\n",
      "          ला       0.00      0.00      0.00       158\n",
      "          लि       0.00      0.00      0.00       158\n",
      "          ली       0.00      0.00      0.00       158\n",
      "          लु       0.00      0.00      0.00       158\n",
      "          लू       0.00      0.00      0.00       158\n",
      "          ले       0.00      0.00      0.00       158\n",
      "          लै       0.00      0.00      0.00       158\n",
      "          लो       0.00      0.00      0.00       158\n",
      "          लौ       0.00      0.00      0.00       158\n",
      "           व       0.00      0.00      0.00       158\n",
      "          वं       0.00      0.00      0.00       158\n",
      "          वः       0.00      0.00      0.00       158\n",
      "          वा       0.00      0.00      0.00       158\n",
      "          वि       0.00      0.00      0.00       158\n",
      "          वी       0.00      0.00      0.00       158\n",
      "          वु       0.00      0.00      0.00       158\n",
      "          वू       0.00      0.00      0.00       158\n",
      "          वे       0.00      0.00      0.00       158\n",
      "          वै       0.00      0.00      0.00       158\n",
      "          वो       0.00      0.00      0.00       158\n",
      "          वौ       0.00      0.00      0.00       158\n",
      "           श       0.00      0.00      0.00       158\n",
      "          शं       0.00      0.00      0.00       158\n",
      "          शः       0.00      0.00      0.00       158\n",
      "          शा       0.00      0.00      0.00       158\n",
      "          शि       0.00      0.00      0.00       158\n",
      "          शी       0.00      0.00      0.00       158\n",
      "          शु       0.00      0.00      0.00       158\n",
      "          शू       0.00      0.00      0.00       158\n",
      "          शे       0.00      0.00      0.00       158\n",
      "          शै       0.00      0.00      0.00       158\n",
      "          शो       0.00      0.00      0.00       158\n",
      "          शौ       0.00      0.00      0.00       158\n",
      "           ष       0.00      0.00      0.00       158\n",
      "          षं       0.00      0.00      0.00       158\n",
      "          षः       0.00      0.00      0.00       158\n",
      "          षा       0.00      0.00      0.00       158\n",
      "          षि       0.00      0.00      0.00       158\n",
      "          षी       0.00      0.00      0.00       158\n",
      "          षु       0.00      0.00      0.00       158\n",
      "          षू       0.00      0.00      0.00       158\n",
      "          षे       0.00      0.00      0.00       158\n",
      "          षै       0.00      0.00      0.00       158\n",
      "          षो       0.00      0.00      0.00       158\n",
      "          षौ       0.00      0.00      0.00       158\n",
      "           स       0.00      0.00      0.00       158\n",
      "          सं       0.00      0.00      0.00       158\n",
      "          सः       0.00      0.00      0.00       158\n",
      "          सा       0.00      0.00      0.00       158\n",
      "          सि       0.00      0.00      0.00       158\n",
      "          सी       0.00      0.00      0.00       158\n",
      "          सु       0.00      0.00      0.00       158\n",
      "          सू       0.00      0.00      0.00       158\n",
      "          से       0.00      0.00      0.00       158\n",
      "          सै       0.00      0.00      0.00       158\n",
      "          सो       0.00      0.00      0.00       158\n",
      "          सौ       0.00      0.00      0.00       158\n",
      "           ह       0.00      0.00      0.00       158\n",
      "          हं       0.00      0.00      0.00       158\n",
      "          हः       0.00      0.00      0.00       158\n",
      "          हा       0.00      0.00      0.00       158\n",
      "          हि       0.00      0.00      0.00       158\n",
      "          ही       0.00      0.00      0.00       158\n",
      "          हु       0.00      0.00      0.00       158\n",
      "          हू       0.00      0.00      0.00       158\n",
      "          हे       0.00      0.00      0.00       158\n",
      "          है       0.00      0.00      0.00       158\n",
      "          हो       0.00      0.00      0.00       158\n",
      "          हौ       0.00      0.00      0.00       158\n",
      "\n",
      "    accuracy                           0.80     60672\n",
      "   macro avg       0.66      0.80      0.72     60672\n",
      "weighted avg       0.66      0.80      0.72     60672\n",
      "\n"
     ]
    },
    {
     "name": "stderr",
     "output_type": "stream",
     "text": [
      "/Users/arul/anaconda3/lib/python3.11/site-packages/sklearn/metrics/_classification.py:1344: UndefinedMetricWarning: Precision and F-score are ill-defined and being set to 0.0 in labels with no predicted samples. Use `zero_division` parameter to control this behavior.\n",
      "  _warn_prf(average, modifier, msg_start, len(result))\n",
      "/Users/arul/anaconda3/lib/python3.11/site-packages/sklearn/metrics/_classification.py:1344: UndefinedMetricWarning: Precision and F-score are ill-defined and being set to 0.0 in labels with no predicted samples. Use `zero_division` parameter to control this behavior.\n",
      "  _warn_prf(average, modifier, msg_start, len(result))\n",
      "/Users/arul/anaconda3/lib/python3.11/site-packages/sklearn/metrics/_classification.py:1344: UndefinedMetricWarning: Precision and F-score are ill-defined and being set to 0.0 in labels with no predicted samples. Use `zero_division` parameter to control this behavior.\n",
      "  _warn_prf(average, modifier, msg_start, len(result))\n"
     ]
    }
   ],
   "source": [
    "# Print classification report\n",
    "print(classification_report(test_labels, predicted_labels, target_names=label_encoder.classes_))"
   ]
  },
  {
   "cell_type": "code",
   "execution_count": 45,
   "id": "6f4c1bbf",
   "metadata": {},
   "outputs": [],
   "source": [
    "# Visualize some predictions\n",
    "num_samples = 10\n",
    "random_indices = np.random.choice(len(test_images), num_samples, replace=False)"
   ]
  },
  {
   "cell_type": "code",
   "execution_count": 46,
   "id": "5918b1e9",
   "metadata": {
    "collapsed": true
   },
   "outputs": [
    {
     "name": "stderr",
     "output_type": "stream",
     "text": [
      "/Users/arul/anaconda3/lib/python3.11/site-packages/IPython/core/pylabtools.py:152: UserWarning: Glyph 2343 (\\N{DEVANAGARI LETTER DHA}) missing from current font.\n",
      "  fig.canvas.print_figure(bytes_io, **kw)\n",
      "/Users/arul/anaconda3/lib/python3.11/site-packages/IPython/core/pylabtools.py:152: UserWarning: Matplotlib currently does not support Devanagari natively.\n",
      "  fig.canvas.print_figure(bytes_io, **kw)\n",
      "/Users/arul/anaconda3/lib/python3.11/site-packages/IPython/core/pylabtools.py:152: UserWarning: Glyph 2379 (\\N{DEVANAGARI VOWEL SIGN O}) missing from current font.\n",
      "  fig.canvas.print_figure(bytes_io, **kw)\n"
     ]
    },
    {
     "data": {
      "image/png": "[encoded data removed]",
      "text/plain": [
       "<Figure size 640x480 with 1 Axes>"
      ]
     },
     "metadata": {},
     "output_type": "display_data"
    },
    {
     "name": "stderr",
     "output_type": "stream",
     "text": [
      "/Users/arul/anaconda3/lib/python3.11/site-packages/IPython/core/pylabtools.py:152: UserWarning: Glyph 2357 (\\N{DEVANAGARI LETTER VA}) missing from current font.\n",
      "  fig.canvas.print_figure(bytes_io, **kw)\n",
      "/Users/arul/anaconda3/lib/python3.11/site-packages/IPython/core/pylabtools.py:152: UserWarning: Glyph 2306 (\\N{DEVANAGARI SIGN ANUSVARA}) missing from current font.\n",
      "  fig.canvas.print_figure(bytes_io, **kw)\n",
      "/Users/arul/anaconda3/lib/python3.11/site-packages/IPython/core/pylabtools.py:152: UserWarning: Glyph 2330 (\\N{DEVANAGARI LETTER CA}) missing from current font.\n",
      "  fig.canvas.print_figure(bytes_io, **kw)\n"
     ]
    },
    {
     "data": {
      "image/png": "[encoded data removed]",
      "text/plain": [
       "<Figure size 640x480 with 1 Axes>"
      ]
     },
     "metadata": {},
     "output_type": "display_data"
    },
    {
     "name": "stderr",
     "output_type": "stream",
     "text": [
      "/Users/arul/anaconda3/lib/python3.11/site-packages/IPython/core/pylabtools.py:152: UserWarning: Glyph 2337 (\\N{DEVANAGARI LETTER DDA}) missing from current font.\n",
      "  fig.canvas.print_figure(bytes_io, **kw)\n",
      "/Users/arul/anaconda3/lib/python3.11/site-packages/IPython/core/pylabtools.py:152: UserWarning: Glyph 2380 (\\N{DEVANAGARI VOWEL SIGN AU}) missing from current font.\n",
      "  fig.canvas.print_figure(bytes_io, **kw)\n"
     ]
    },
    {
     "data": {
      "image/png": "[encoded data removed]",
      "text/plain": [
       "<Figure size 640x480 with 1 Axes>"
      ]
     },
     "metadata": {},
     "output_type": "display_data"
    },
    {
     "name": "stderr",
     "output_type": "stream",
     "text": [
      "/Users/arul/anaconda3/lib/python3.11/site-packages/IPython/core/pylabtools.py:152: UserWarning: Glyph 2359 (\\N{DEVANAGARI LETTER SSA}) missing from current font.\n",
      "  fig.canvas.print_figure(bytes_io, **kw)\n",
      "/Users/arul/anaconda3/lib/python3.11/site-packages/IPython/core/pylabtools.py:152: UserWarning: Glyph 2375 (\\N{DEVANAGARI VOWEL SIGN E}) missing from current font.\n",
      "  fig.canvas.print_figure(bytes_io, **kw)\n",
      "/Users/arul/anaconda3/lib/python3.11/site-packages/IPython/core/pylabtools.py:152: UserWarning: Glyph 2346 (\\N{DEVANAGARI LETTER PA}) missing from current font.\n",
      "  fig.canvas.print_figure(bytes_io, **kw)\n"
     ]
    },
    {
     "data": {
      "image/png": "[encoded data removed]",
      "text/plain": [
       "<Figure size 640x480 with 1 Axes>"
      ]
     },
     "metadata": {},
     "output_type": "display_data"
    },
    {
     "name": "stderr",
     "output_type": "stream",
     "text": [
      "/Users/arul/anaconda3/lib/python3.11/site-packages/IPython/core/pylabtools.py:152: UserWarning: Glyph 2348 (\\N{DEVANAGARI LETTER BA}) missing from current font.\n",
      "  fig.canvas.print_figure(bytes_io, **kw)\n"
     ]
    },
    {
     "data": {
      "image/png": "[encoded data removed]",
      "text/plain": [
       "<Figure size 640x480 with 1 Axes>"
      ]
     },
     "metadata": {},
     "output_type": "display_data"
    },
    {
     "name": "stderr",
     "output_type": "stream",
     "text": [
      "/Users/arul/anaconda3/lib/python3.11/site-packages/IPython/core/pylabtools.py:152: UserWarning: Glyph 2338 (\\N{DEVANAGARI LETTER DDHA}) missing from current font.\n",
      "  fig.canvas.print_figure(bytes_io, **kw)\n"
     ]
    },
    {
     "data": {
      "image/png": "[encoded data removed]",
      "text/plain": [
       "<Figure size 640x480 with 1 Axes>"
      ]
     },
     "metadata": {},
     "output_type": "display_data"
    },
    {
     "name": "stderr",
     "output_type": "stream",
     "text": [
      "/Users/arul/anaconda3/lib/python3.11/site-packages/IPython/core/pylabtools.py:152: UserWarning: Glyph 2327 (\\N{DEVANAGARI LETTER GA}) missing from current font.\n",
      "  fig.canvas.print_figure(bytes_io, **kw)\n",
      "/Users/arul/anaconda3/lib/python3.11/site-packages/IPython/core/pylabtools.py:152: UserWarning: Glyph 2366 (\\N{DEVANAGARI VOWEL SIGN AA}) missing from current font.\n",
      "  fig.canvas.print_figure(bytes_io, **kw)\n"
     ]
    },
    {
     "data": {
      "image/png": "[encoded data removed]",
      "text/plain": [
       "<Figure size 640x480 with 1 Axes>"
      ]
     },
     "metadata": {},
     "output_type": "display_data"
    },
    {
     "name": "stderr",
     "output_type": "stream",
     "text": [
      "/Users/arul/anaconda3/lib/python3.11/site-packages/IPython/core/pylabtools.py:152: UserWarning: Glyph 2347 (\\N{DEVANAGARI LETTER PHA}) missing from current font.\n",
      "  fig.canvas.print_figure(bytes_io, **kw)\n",
      "/Users/arul/anaconda3/lib/python3.11/site-packages/IPython/core/pylabtools.py:152: UserWarning: Glyph 2367 (\\N{DEVANAGARI VOWEL SIGN I}) missing from current font.\n",
      "  fig.canvas.print_figure(bytes_io, **kw)\n"
     ]
    },
    {
     "data": {
      "image/png": "[encoded data removed]",
      "text/plain": [
       "<Figure size 640x480 with 1 Axes>"
      ]
     },
     "metadata": {},
     "output_type": "display_data"
    },
    {
     "name": "stderr",
     "output_type": "stream",
     "text": [
      "/Users/arul/anaconda3/lib/python3.11/site-packages/IPython/core/pylabtools.py:152: UserWarning: Glyph 2368 (\\N{DEVANAGARI VOWEL SIGN II}) missing from current font.\n",
      "  fig.canvas.print_figure(bytes_io, **kw)\n"
     ]
    },
    {
     "data": {
      "image/png": "[encoded data removed]",
      "text/plain": [
       "<Figure size 640x480 with 1 Axes>"
      ]
     },
     "metadata": {},
     "output_type": "display_data"
    },
    {
     "name": "stderr",
     "output_type": "stream",
     "text": [
      "/Users/arul/anaconda3/lib/python3.11/site-packages/IPython/core/pylabtools.py:152: UserWarning: Glyph 2358 (\\N{DEVANAGARI LETTER SHA}) missing from current font.\n",
      "  fig.canvas.print_figure(bytes_io, **kw)\n",
      "/Users/arul/anaconda3/lib/python3.11/site-packages/IPython/core/pylabtools.py:152: UserWarning: Glyph 2307 (\\N{DEVANAGARI SIGN VISARGA}) missing from current font.\n",
      "  fig.canvas.print_figure(bytes_io, **kw)\n",
      "/Users/arul/anaconda3/lib/python3.11/site-packages/IPython/core/pylabtools.py:152: UserWarning: Glyph 2331 (\\N{DEVANAGARI LETTER CHA}) missing from current font.\n",
      "  fig.canvas.print_figure(bytes_io, **kw)\n"
     ]
    },
    {
     "data": {
      "image/png": "[encoded data removed]",
      "text/plain": [
       "<Figure size 640x480 with 1 Axes>"
      ]
     },
     "metadata": {},
     "output_type": "display_data"
    }
   ],
   "source": [
    "for idx in random_indices:\n",
    "    img = test_images[idx].reshape(img_height, img_width)\n",
    "    true_label = label_encoder.classes_[test_labels[idx]]\n",
    "    predicted_label = label_encoder.classes_[predicted_labels[idx]]\n",
    "    \n",
    "    plt.figure()\n",
    "    plt.imshow(img, cmap='gray')\n",
    "    plt.title(f'True Label: {true_label}, Predicted Label: {predicted_label}')\n",
    "    plt.axis('off')\n",
    "    plt.show()"
   ]
  },
  {
   "cell_type": "code",
   "execution_count": 49,
   "id": "7ca5938f",
   "metadata": {},
   "outputs": [],
   "source": [
    "# Save model with .keras extension\n",
    "model.save('hindi_character_recognition_model.keras')"
   ]
  },
  {
   "cell_type": "code",
   "execution_count": 50,
   "id": "e367e91e",
   "metadata": {
    "collapsed": true
   },
   "outputs": [
    {
     "name": "stderr",
     "output_type": "stream",
     "text": [
      "/Users/arul/anaconda3/lib/python3.11/site-packages/keras/src/saving/saving_lib.py:415: UserWarning: Skipping variable loading for optimizer 'rmsprop', because it has 12 variables whereas the saved optimizer has 22 variables. \n",
      "  saveable.load_own_variables(weights_store.get(inner_path))\n"
     ]
    }
   ],
   "source": [
    "# Load model\n",
    "loaded_model = tf.keras.models.load_model('hindi_character_recognition_model.keras')\n"
   ]
  },
  {
   "cell_type": "code",
   "execution_count": 51,
   "id": "53994c62",
   "metadata": {
    "collapsed": true
   },
   "outputs": [
    {
     "name": "stdout",
     "output_type": "stream",
     "text": [
      "\u001b[1m1896/1896\u001b[0m \u001b[32m━━━━━━━━━━━━━━━━━━━━\u001b[0m\u001b[37m\u001b[0m \u001b[1m6s\u001b[0m 3ms/step\n"
     ]
    }
   ],
   "source": [
    "# Example inference (assuming test_images are loaded and preprocessed)\n",
    "predictions = loaded_model.predict(test_images)"
   ]
  },
  {
   "cell_type": "markdown",
   "id": "e3712c1e",
   "metadata": {},
   "source": [
    "# Question 1: \n",
    "## Can an AI/ML model be trained to generate an entire library from a chosen few characters? How?\n",
    "\n",
    "Yes, an AI/ML model can be trained to generate an entire font library from a chosen few characters. This can be achieved using techniques such as Generative Adversarial Networks (GANs) or Variational Autoencoders (VAEs). These models can learn the style and structure of the input characters and generate new characters in the same style. The process involves:\n",
    "\n",
    "Collecting a dataset of characters.\n",
    "\n",
    "Preprocessing the data (normalization, resizing).\n",
    "\n",
    "Training a GAN or VAE on the dataset.\n",
    "\n",
    "Using the trained model to generate new characters by sampling from the learned distribution.\n",
    "\n",
    "# Question 2: \n",
    "## Are there any existing models which can be used to do this?\n",
    "Yes, there are existing models and frameworks that can be adapted for this purpose:\n",
    "\n",
    "GANs (Generative Adversarial Networks): Models like DCGAN (Deep Convolutional GAN) can be used to generate new characters based on a few samples.\n",
    "\n",
    "VAEs (Variational Autoencoders): VAEs can learn a latent representation of the character data and generate new characters from this representation.\n",
    "\n",
    "Pre-trained Models: There are also pre-trained models available in repositories like GitHub and TensorFlow Hub that can be fine-tuned for generating characters in specific styles."
   ]
  },
  {
   "cell_type": "code",
   "execution_count": null,
   "id": "778873ae",
   "metadata": {},
   "outputs": [],
   "source": []
  },
  {
   "cell_type": "code",
   "execution_count": null,
   "id": "42665395",
   "metadata": {},
   "outputs": [],
   "source": []
  },
  {
   "cell_type": "code",
   "execution_count": null,
   "id": "76a9a97c",
   "metadata": {},
   "outputs": [],
   "source": []
  },
  {
   "cell_type": "code",
   "execution_count": null,
   "id": "01bcf8e4",
   "metadata": {},
   "outputs": [],
   "source": []
  },
  {
   "cell_type": "code",
   "execution_count": null,
   "id": "19ef218e",
   "metadata": {},
   "outputs": [],
   "source": []
  },
  {
   "cell_type": "code",
   "execution_count": null,
   "id": "57e023cc",
   "metadata": {},
   "outputs": [],
   "source": []
  },
  {
   "cell_type": "code",
   "execution_count": null,
   "id": "d016ca22",
   "metadata": {},
   "outputs": [],
   "source": []
  },
  {
   "cell_type": "code",
   "execution_count": null,
   "id": "58be14a0",
   "metadata": {},
   "outputs": [],
   "source": []
  },
  {
   "cell_type": "code",
   "execution_count": null,
   "id": "fa575421",
   "metadata": {},
   "outputs": [],
   "source": []
  },
  {
   "cell_type": "code",
   "execution_count": null,
   "id": "eeb30add",
   "metadata": {},
   "outputs": [],
   "source": []
  },
  {
   "cell_type": "code",
   "execution_count": null,
   "id": "e7da8769",
   "metadata": {},
   "outputs": [],
   "source": []
  },
  {
   "cell_type": "code",
   "execution_count": null,
   "id": "f4cc59cc",
   "metadata": {},
   "outputs": [],
   "source": []
  },
  {
   "cell_type": "code",
   "execution_count": null,
   "id": "b1358fa6",
   "metadata": {},
   "outputs": [],
   "source": []
  },
  {
   "cell_type": "code",
   "execution_count": null,
   "id": "16596d63",
   "metadata": {},
   "outputs": [],
   "source": []
  },
  {
   "cell_type": "code",
   "execution_count": null,
   "id": "11ec161e",
   "metadata": {},
   "outputs": [],
   "source": []
  },
  {
   "cell_type": "code",
   "execution_count": null,
   "id": "f68def31",
   "metadata": {},
   "outputs": [],
   "source": []
  },
  {
   "cell_type": "code",
   "execution_count": null,
   "id": "1885328d",
   "metadata": {},
   "outputs": [],
   "source": []
  },
  {
   "cell_type": "code",
   "execution_count": null,
   "id": "3656d5f2",
   "metadata": {},
   "outputs": [],
   "source": []
  },
  {
   "cell_type": "code",
   "execution_count": null,
   "id": "890e8434",
   "metadata": {},
   "outputs": [],
   "source": []
  },
  {
   "cell_type": "code",
   "execution_count": null,
   "id": "5f995dd7",
   "metadata": {},
   "outputs": [],
   "source": []
  },
  {
   "cell_type": "code",
   "execution_count": null,
   "id": "a65f42ca",
   "metadata": {},
   "outputs": [],
   "source": []
  }
 ],
 "metadata": {
  "kernelspec": {
   "display_name": "Python 3 (ipykernel)",
   "language": "python",
   "name": "python3"
  },
  "language_info": {
   "codemirror_mode": {
    "name": "ipython",
    "version": 3
   },
   "file_extension": ".py",
   "mimetype": "text/x-python",
   "name": "python",
   "nbconvert_exporter": "python",
   "pygments_lexer": "ipython3",
   "version": "3.11.7"
  }
 },
 "nbformat": 4,
 "nbformat_minor": 5
}
